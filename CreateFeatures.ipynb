{
 "cells": [
  {
   "cell_type": "code",
   "execution_count": 5,
   "metadata": {},
   "outputs": [],
   "source": [
    "import pandas as pd\n",
    "\n",
    "# Load the datasets\n",
    "match_df = pd.read_csv('./match_level_scorecard.csv')\n",
    "bowler_df = pd.read_csv('./bowler_level_scorecard.csv')\n",
    "batsman_df = pd.read_csv('./batsman_level_scorecard.csv')\n",
    "\n",
    "# Convert match date to datetime for sorting\n",
    "match_df['match_dt'] = pd.to_datetime(match_df['match_dt'])\n",
    "batsman_df['match_dt'] = pd.to_datetime(batsman_df['match_dt'])\n",
    "bowler_df['match_dt'] = pd.to_datetime(bowler_df['match_dt'])\n",
    "\n",
    "# Function to convert string roster IDs to a list of integers\n",
    "def convert_roster_ids(roster_ids):\n",
    "    return [int(float(x)) for x in roster_ids.split(':')]\n",
    "\n",
    "# Calculate team1's average runs in last 5 games\n",
    "def calculate_avg_runs_last_5(team_id, batsman_df):\n",
    "    team_batsman_df = batsman_df[batsman_df['batsman_id'].isin([team_id])]\n",
    "    last_5_games = team_batsman_df.nlargest(5, 'match_dt')\n",
    "    return last_5_games['runs'].mean()\n",
    "\n",
    "match_df['team1_avg_runs_last_5'] = match_df['team1_id'].apply(lambda team1_id: calculate_avg_runs_last_5(team1_id, batsman_df))\n",
    "match_df['team2_avg_runs_last_5'] = match_df['team2_id'].apply(lambda team2_id: calculate_avg_runs_last_5(team2_id, batsman_df))\n",
    "\n",
    "# Calculate average economy rate of bowlers in last 5 games\n",
    "def calculate_avg_economy_last_5(team_id, bowler_df):\n",
    "    team_bowler_df = bowler_df[bowler_df['bowler_id'].isin([team_id])]\n",
    "    last_5_games = team_bowler_df.nlargest(5, 'match_dt')\n",
    "    return last_5_games['economy'].mean()\n",
    "\n",
    "match_df['team1_bowler_economy_last_5'] = match_df['team1_id'].apply(lambda team1_id: calculate_avg_economy_last_5(team1_id, bowler_df))\n",
    "match_df['team2_bowler_economy_last_5'] = match_df['team2_id'].apply(lambda team2_id: calculate_avg_economy_last_5(team2_id, bowler_df))\n",
    "\n",
    "# Calculate total wickets taken by bowlers in last 5 games\n",
    "def calculate_wickets_last_5(team_id, bowler_df):\n",
    "    team_bowler_df = bowler_df[bowler_df['bowler_id'].isin([team_id])]\n",
    "    last_5_games = team_bowler_df.nlargest(5, 'match_dt')\n",
    "    return last_5_games['wicket_count'].sum()\n",
    "\n",
    "match_df['team1_wickets_last_5'] = match_df['team1_id'].apply(lambda team1_id: calculate_wickets_last_5(team1_id, bowler_df))\n",
    "match_df['team2_wickets_last_5'] = match_df['team2_id'].apply(lambda team2_id: calculate_wickets_last_5(team2_id, bowler_df))\n",
    "\n",
    "# Calculate total boundaries scored by team in last 5 games\n",
    "def calculate_boundaries_last_5(team_id, batsman_df):\n",
    "    team_batsman_df = batsman_df[batsman_df['batsman_id'].isin([team_id])]\n",
    "    last_5_games = team_batsman_df.nlargest(5, 'match_dt')\n",
    "    return last_5_games['Fours'].sum() + last_5_games['Sixes'].sum()\n",
    "\n",
    "match_df['team1_boundaries_last_5'] = match_df['team1_id'].apply(lambda team1_id: calculate_boundaries_last_5(team1_id, batsman_df))\n",
    "match_df['team2_boundaries_last_5'] = match_df['team2_id'].apply(lambda team2_id: calculate_boundaries_last_5(team2_id, batsman_df))\n",
    "\n",
    "# Create toss_win_impact feature\n",
    "match_df['toss_win_impact'] = (match_df['toss winner'] == match_df['winner']).astype(int)\n",
    "\n",
    "\n",
    "# Calculate team experience based on number of matches played by roster players\n",
    "def calculate_team_experience(roster_ids, batsman_df):\n",
    "    roster = convert_roster_ids(roster_ids)\n",
    "    experience = batsman_df[batsman_df['batsman_id'].isin(roster)]['match id'].nunique()\n",
    "    return experience / len(roster)\n",
    "\n",
    "match_df['team1_experience'] = match_df['team1_roster_ids'].apply(lambda roster_ids: calculate_team_experience(roster_ids, batsman_df))\n",
    "match_df['team2_experience'] = match_df['team2_roster_ids'].apply(lambda roster_ids: calculate_team_experience(roster_ids, batsman_df))\n",
    "\n",
    "# Create a DataFrame with match_id and the newly created additional features\n",
    "additional_features_df = match_df[['match id', \n",
    "                                   'team1_avg_runs_last_5', \n",
    "                                   'team2_avg_runs_last_5', \n",
    "                                   'team1_bowler_economy_last_5', \n",
    "                                   'team2_bowler_economy_last_5', \n",
    "                                   'team1_wickets_last_5', \n",
    "                                   'team2_wickets_last_5', \n",
    "                                   'team1_boundaries_last_5', \n",
    "                                   'team2_boundaries_last_5', \n",
    "                                   'toss_win_impact', \n",
    "                                   'team1_experience', \n",
    "                                   'team2_experience']]\n",
    "\n",
    "# Save the DataFrame to a CSV file\n",
    "additional_features_df.to_csv('./additional_features.csv', index=False)\n",
    "\n",
    "# Create a DataFrame with feature descriptions\n",
    "feature_descriptions = {\n",
    "    'feature': [\n",
    "        'team1_avg_runs_last_5', \n",
    "        'team2_avg_runs_last_5', \n",
    "        'team1_bowler_economy_last_5', \n",
    "        'team2_bowler_economy_last_5', \n",
    "        'team1_wickets_last_5', \n",
    "        'team2_wickets_last_5', \n",
    "        'team1_boundaries_last_5', \n",
    "        'team2_boundaries_last_5', \n",
    "        'toss_win_impact',\n",
    "        'team1_experience', \n",
    "        'team2_experience'\n",
    "    ],\n",
    "    'description': [\n",
    "        'Team1\\'s average runs in the last 5 matches', \n",
    "        'Team2\\'s average runs in the last 5 matches', \n",
    "        'Average economy rate of team1 bowlers in the last 5 matches', \n",
    "        'Average economy rate of team2 bowlers in the last 5 matches', \n",
    "        'Total wickets taken by team1 bowlers in the last 5 matches', \n",
    "        'Total wickets taken by team2 bowlers in the last 5 matches', \n",
    "        'Total boundaries (fours and sixes) scored by team1 in the last 5 matches', \n",
    "        'Total boundaries (fours and sixes) scored by team2 in the last 5 matches', \n",
    "        'Binary feature indicating if the toss winner is also the match winner', \n",
    "        'Average number of matches played by the team1 roster', \n",
    "        'Average number of matches played by the team2 roster'\n",
    "    ]\n",
    "}\n",
    "\n",
    "feature_descriptions_df = pd.DataFrame(feature_descriptions)\n",
    "\n",
    "# Save the DataFrame to a CSV file\n",
    "feature_descriptions_df.to_csv('./Add_feature_descriptions.csv', index=False)\n"
   ]
  },
  {
   "cell_type": "code",
   "execution_count": 16,
   "metadata": {},
   "outputs": [
    {
     "name": "stdout",
     "output_type": "stream",
     "text": [
      "(1689, 23)\n"
     ]
    }
   ],
   "source": [
    "print(result_df.shape)"
   ]
  },
  {
   "cell_type": "code",
   "execution_count": 17,
   "metadata": {},
   "outputs": [
    {
     "name": "stdout",
     "output_type": "stream",
     "text": [
      "(948, 23)\n"
     ]
    }
   ],
   "source": [
    "train_path = './train_data_with_samplefeatures.csv'\n",
    "train_data = pd.read_csv(train_path)\n",
    "\n",
    "print(train_data.shape)"
   ]
  },
  {
   "cell_type": "markdown",
   "metadata": {},
   "source": [
    "Merging with traindata(given)"
   ]
  },
  {
   "cell_type": "code",
   "execution_count": 18,
   "metadata": {},
   "outputs": [],
   "source": [
    "merged_df = pd.concat([result_df, train_data]).reset_index(drop=True)"
   ]
  },
  {
   "cell_type": "code",
   "execution_count": 19,
   "metadata": {},
   "outputs": [
    {
     "name": "stdout",
     "output_type": "stream",
     "text": [
      "(2637, 23)\n"
     ]
    }
   ],
   "source": [
    "print(merged_df.shape)"
   ]
  },
  {
   "cell_type": "code",
   "execution_count": 20,
   "metadata": {},
   "outputs": [],
   "source": [
    "merged_df.to_csv('./MergedTrainData.csv',index=False)"
   ]
  }
 ],
 "metadata": {
  "kernelspec": {
   "display_name": "Python 3",
   "language": "python",
   "name": "python3"
  },
  "language_info": {
   "codemirror_mode": {
    "name": "ipython",
    "version": 3
   },
   "file_extension": ".py",
   "mimetype": "text/x-python",
   "name": "python",
   "nbconvert_exporter": "python",
   "pygments_lexer": "ipython3",
   "version": "3.12.3"
  }
 },
 "nbformat": 4,
 "nbformat_minor": 2
}
