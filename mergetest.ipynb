{
 "cells": [
  {
   "cell_type": "code",
   "execution_count": 11,
   "metadata": {},
   "outputs": [],
   "source": [
    "import pandas as pd\n",
    "from sklearn.preprocessing import LabelEncoder"
   ]
  },
  {
   "cell_type": "code",
   "execution_count": 12,
   "metadata": {},
   "outputs": [],
   "source": [
    "# Load the primary train data\n",
    "train_path = './train_data_with_samplefeatures.csv'\n",
    "test_path = './test_data_with_samplefeatures.csv' # Replace with the actual file path\n",
    "train_data = pd.read_csv(train_path)\n",
    "test_data=pd.read_csv(test_path)"
   ]
  },
  {
   "cell_type": "markdown",
   "metadata": {},
   "source": [
    "train file"
   ]
  },
  {
   "cell_type": "code",
   "execution_count": 13,
   "metadata": {},
   "outputs": [],
   "source": [
    "# Initialize LabelEncoder\n",
    "label_encoder = LabelEncoder()\n",
    "\n",
    "# Encode categorical variables\n",
    "categorical_cols = ['team1', 'team2', 'toss winner', 'toss decision', 'venue', 'city', 'lighting', 'series_name', 'season']\n",
    "for col in categorical_cols:\n",
    "    train_data[col] = label_encoder.fit_transform(train_data[col])\n",
    "\n",
    "# drop column\n",
    "train_data.drop(columns=['match_dt','winner', 'winner_id'], inplace=True)\n",
    "train_data.drop(columns=['team1_roster_ids', 'team2_roster_ids'], inplace=True)\n",
    "\n",
    "# Check for missing values\n",
    "missing_values = train_data.isnull().sum()\n",
    "# print(\"Missing Values:\\n\", missing_values)\n",
    "\n",
    "# Handle missing values if any\n",
    "# For simplicity, let's fill missing values with the mean of each column\n",
    "train_data.fillna(0, inplace=True)\n",
    "\n",
    "train_data['dataset_type']='train'\n"
   ]
  },
  {
   "cell_type": "markdown",
   "metadata": {},
   "source": [
    "test file"
   ]
  },
  {
   "cell_type": "code",
   "execution_count": 14,
   "metadata": {},
   "outputs": [],
   "source": [
    "# Initialize LabelEncoder\n",
    "label_encoder = LabelEncoder()\n",
    "\n",
    "# Encode categorical variables\n",
    "categorical_cols = ['team1', 'team2', 'toss winner', 'toss decision', 'venue', 'city', 'lighting', 'series_name', 'season']\n",
    "for col in categorical_cols:\n",
    "    test_data[col] = label_encoder.fit_transform(test_data[col])\n",
    "\n",
    "# drop column\n",
    "test_data.drop(columns=['match_dt'], inplace=True)\n",
    "test_data.drop(columns=['team1_roster_ids', 'team2_roster_ids'], inplace=True)\n",
    "\n",
    "# Display the updated data types\n",
    "# print(test_data.dtypes)\n",
    "\n",
    "# Check for missing values\n",
    "missing_values = test_data.isnull().sum()\n",
    "# print(\"Missing Values:\\n\", missing_values)\n",
    "\n",
    "# Handle missing values if any\n",
    "# For simplicity, let's fill missing values with the mean of each column\n",
    "test_data.fillna(0, inplace=True)\n",
    "\n",
    "test_data['dataset_type']='r1'"
   ]
  },
  {
   "cell_type": "code",
   "execution_count": 15,
   "metadata": {},
   "outputs": [],
   "source": [
    "merged_df = pd.concat([test_data, train_data]).reset_index(drop=True)"
   ]
  },
  {
   "cell_type": "code",
   "execution_count": 16,
   "metadata": {},
   "outputs": [
    {
     "name": "stdout",
     "output_type": "stream",
     "text": [
      "(948, 19)\n",
      "(271, 19)\n",
      "(1219, 19)\n"
     ]
    }
   ],
   "source": [
    "print(train_data.shape)\n",
    "print(test_data.shape)\n",
    "print(merged_df.shape)"
   ]
  },
  {
   "cell_type": "code",
   "execution_count": 17,
   "metadata": {},
   "outputs": [],
   "source": [
    "merged_df.to_csv('./mergedtest.csv', index=False)"
   ]
  }
 ],
 "metadata": {
  "kernelspec": {
   "display_name": "Python 3",
   "language": "python",
   "name": "python3"
  },
  "language_info": {
   "codemirror_mode": {
    "name": "ipython",
    "version": 3
   },
   "file_extension": ".py",
   "mimetype": "text/x-python",
   "name": "python",
   "nbconvert_exporter": "python",
   "pygments_lexer": "ipython3",
   "version": "3.12.3"
  }
 },
 "nbformat": 4,
 "nbformat_minor": 2
}
